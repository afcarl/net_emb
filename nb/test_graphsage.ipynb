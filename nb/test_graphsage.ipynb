{
 "cells": [
  {
   "cell_type": "code",
   "execution_count": 9,
   "metadata": {
    "collapsed": false
   },
   "outputs": [
    {
     "name": "stdout",
     "output_type": "stream",
     "text": [
      "(array([    4,     4,     6, ..., 56937, 56941, 56943]), array([35, 47, 31, ..., 38, 15, 35]))\n",
      "(56944, 50)\n"
     ]
    }
   ],
   "source": [
    "DATASET = \"/Users/tnguyen/dataspace/graph/ppi/graphsage/\"\n",
    "\n",
    "import numpy as np\n",
    "\n",
    "features = np.load(DATASET + \"ppi-feats.npy\")\n",
    "print(np.where(features>0))\n",
    "print(features.shape)"
   ]
  }
 ],
 "metadata": {
  "kernelspec": {
   "display_name": "Python 2",
   "language": "python",
   "name": "python2"
  },
  "language_info": {
   "codemirror_mode": {
    "name": "ipython",
    "version": 2
   },
   "file_extension": ".py",
   "mimetype": "text/x-python",
   "name": "python",
   "nbconvert_exporter": "python",
   "pygments_lexer": "ipython2",
   "version": "2.7.13"
  }
 },
 "nbformat": 4,
 "nbformat_minor": 2
}
