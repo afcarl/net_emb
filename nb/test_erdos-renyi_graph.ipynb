{
 "cells": [
  {
   "cell_type": "code",
   "execution_count": 3,
   "metadata": {
    "collapsed": false
   },
   "outputs": [],
   "source": [
    "from __future__ import print_function, division\n",
    "import networkx as nx\n",
    "\n",
    "n = 10000\n",
    "# p = 1/(n**(4/3))\n",
    "# p = 1.5/n\n",
    "p = 1/n\n",
    "\n",
    "DATASET = \"/Users/tnguyen/dataspace/graph/erdos/\"\n",
    "EDGELIST = DATASET + \"/edgelist/erdos,n={0},p={1}.edgelist\".format(n,p)\n",
    "\n",
    "G = nx.erdos_renyi_graph(n, p, seed=None, directed=False)\n",
    "nx.write_edgelist(G, path=EDGELIST, delimiter=\" \", data=False)"
   ]
  },
  {
   "cell_type": "code",
   "execution_count": 4,
   "metadata": {
    "collapsed": false
   },
   "outputs": [
    {
     "name": "stdout",
     "output_type": "stream",
     "text": [
      "python ./node2vec/src/main.py --input /Users/tnguyen/dataspace/graph/erdos//edgelist/erdos,n=10000,p=0.0001.edgelist --output /Users/tnguyen/dataspace/graph/erdos//emb/erdos,n=10000,p=0.0001.emb\n",
      "STDOUT:Walk iteration:\n",
      "1 / 10\n",
      "2 / 10\n",
      "3 / 10\n",
      "4 / 10\n",
      "5 / 10\n",
      "6 / 10\n",
      "7 / 10\n",
      "8 / 10\n",
      "9 / 10\n",
      "10 / 10\n",
      "--- 43.9140808582 seconds ---\n",
      "\n"
     ]
    }
   ],
   "source": [
    "NODE2VEC = \"../node2vec/src/main.py\"\n",
    "OUTPUT = DATASET + \"/emb/erdos,n={0},p={1}.emb\".format(n,p)\n",
    "\n",
    "import os\n",
    "import subprocess\n",
    "\n",
    "def node2vec(edgelist, emb):\n",
    "    cmd = [\n",
    "        'python', NODE2VEC,\n",
    "        '--input', edgelist,\n",
    "        '--output', emb,\n",
    "    ]\n",
    "    print(\" \".join(cmd))\n",
    "    process = subprocess.Popen(cmd, stdout=subprocess.PIPE, stderr=subprocess.STDOUT)\n",
    "    stdout = process.communicate()[0]\n",
    "    print('STDOUT:{}'.format(stdout))\n",
    "    return\n",
    "node2vec(EDGELIST, OUTPUT)"
   ]
  },
  {
   "cell_type": "code",
   "execution_count": 5,
   "metadata": {
    "collapsed": false
   },
   "outputs": [
    {
     "name": "stdout",
     "output_type": "stream",
     "text": [
      "python ./edge2vec/edge_classifier.py --edgelist /Users/tnguyen/dataspace/graph/erdos//edgelist/erdos,n=10000,p=0.0001.edgelist --nodeemb /Users/tnguyen/dataspace/graph/erdos//emb/erdos,n=10000,p=0.0001.emb --func hadamard --verbose\n"
     ]
    }
   ],
   "source": [
    "cmd = [\n",
    "        'python', \"../edge2vec/edge_classifier.py\",\n",
    "        '--edgelist', EDGELIST,\n",
    "        '--nodeemb', OUTPUT,\n",
    "        '--func', 'hadamard',\n",
    "        '--verbose'\n",
    "    ]\n",
    "print(\" \".join(cmd))\n",
    "# process = subprocess.Popen(cmd, stdout=subprocess.PIPE, stderr=subprocess.STDOUT)\n",
    "# stdout = process.communicate()[0]\n",
    "# print('STDOUT:{}'.format(stdout))"
   ]
  }
 ],
 "metadata": {
  "kernelspec": {
   "display_name": "Python 2",
   "language": "python",
   "name": "python2"
  },
  "language_info": {
   "codemirror_mode": {
    "name": "ipython",
    "version": 2
   },
   "file_extension": ".py",
   "mimetype": "text/x-python",
   "name": "python",
   "nbconvert_exporter": "python",
   "pygments_lexer": "ipython2",
   "version": "2.7.13"
  }
 },
 "nbformat": 4,
 "nbformat_minor": 2
}
