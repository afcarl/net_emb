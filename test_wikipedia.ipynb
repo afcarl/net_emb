{
 "cells": [
  {
   "cell_type": "code",
   "execution_count": 59,
   "metadata": {
    "collapsed": false
   },
   "outputs": [
    {
     "data": {
      "text/plain": [
       "[('group', (4777, 40), 'sparse'), ('network', (4777, 4777), 'sparse')]"
      ]
     },
     "execution_count": 59,
     "metadata": {},
     "output_type": "execute_result"
    }
   ],
   "source": [
    "from __future__ import print_function, division\n",
    "import numpy as np\n",
    "\n",
    "import scipy.io as sio\n",
    "\n",
    "DATASET = \"/Users/tnguyen/dataspace/graph/wikipedia/\"\n",
    "\n",
    "mat_file = \"/Users/tnguyen/dataspace/graph/wikipedia/\" + \"POS.mat\"\n",
    "\n",
    "sio.whosmat(mat_file)"
   ]
  },
  {
   "cell_type": "code",
   "execution_count": 32,
   "metadata": {
    "collapsed": false
   },
   "outputs": [
    {
     "data": {
      "text/plain": [
       "{'__globals__': [],\n",
       " '__header__': 'MATLAB 5.0 MAT-file Platform: posix, Created on: Wed Nov  4 23:51:23 2015',\n",
       " '__version__': '1.0',\n",
       " 'group': <4777x40 sparse matrix of type '<type 'numpy.float64'>'\n",
       " \twith 6770 stored elements in Compressed Sparse Column format>,\n",
       " 'network': <4777x4777 sparse matrix of type '<type 'numpy.float64'>'\n",
       " \twith 184812 stored elements in Compressed Sparse Column format>}"
      ]
     },
     "execution_count": 32,
     "metadata": {},
     "output_type": "execute_result"
    }
   ],
   "source": [
    "data = sio.loadmat(mat_file)\n",
    "data"
   ]
  },
  {
   "cell_type": "code",
   "execution_count": 26,
   "metadata": {
    "collapsed": false
   },
   "outputs": [
    {
     "name": "stdout",
     "output_type": "stream",
     "text": [
      "[[ 1.  0.  0.  0.  0.  0.  0.  0.  0.  0.  0.  0.  0.  0.  0.  0.  0.  0.\n",
      "   0.  1.  0.  0.  0.  0.  0.  0.  0.  0.  1.  0.  0.  0.  0.  0.  0.  0.\n",
      "   0.  0.  0.  0.]]\n"
     ]
    }
   ],
   "source": [
    "print(data['group'].todense()[4776])"
   ]
  },
  {
   "cell_type": "code",
   "execution_count": 61,
   "metadata": {
    "collapsed": false
   },
   "outputs": [
    {
     "data": {
      "text/plain": [
       "(array([   0,    0,    0, ..., 4776, 4776, 4776]),\n",
       " array([   0,    1,    2, ...,  270,  279, 4564]))"
      ]
     },
     "execution_count": 61,
     "metadata": {},
     "output_type": "execute_result"
    }
   ],
   "source": [
    "# print(data['network'])\n",
    "np.where(data['network'].todense() > 0)"
   ]
  },
  {
   "cell_type": "code",
   "execution_count": 43,
   "metadata": {
    "collapsed": false
   },
   "outputs": [],
   "source": [
    "import networkx as nx\n",
    "from networkx.readwrite import json_graph\n",
    "import json\n",
    "\n",
    "G = nx.Graph(data['network'])\n",
    "nx.write_edgelist(G, path=DATASET + \"edgelist/POS.edgelist\", delimiter=\" \", data=['weight'])\n",
    "# jsondata = json_graph.node_link_data(G)\n",
    "# with open(DATASET + 'graphsage/POS-G.json', 'w') as outfile:\n",
    "#     json.dump(jsondata, outfile)"
   ]
  },
  {
   "cell_type": "code",
   "execution_count": 10,
   "metadata": {
    "collapsed": false
   },
   "outputs": [
    {
     "name": "stdout",
     "output_type": "stream",
     "text": [
      "python ./node2vec/src/main.py --input /Users/tnguyen/dataspace/graph/wikipedia/edgelist/POS.edgelist --output /Users/tnguyen/dataspace/graph/wikipedia/emb/POS.emb --weighted\n"
     ]
    }
   ],
   "source": [
    "NODE2VEC = \"./node2vec/src/main.py\"\n",
    "INPUT = DATASET + \"edgelist/POS.edgelist\"\n",
    "OUTPUT = DATASET + \"emb/POS.emb\"\n",
    "\n",
    "import os\n",
    "import subprocess\n",
    "\n",
    "def node2vec(edgelist, emb, preview=False):\n",
    "    cmd = [\n",
    "        'python', NODE2VEC,\n",
    "        '--input', edgelist,\n",
    "        '--output', emb,\n",
    "        '--weighted',\n",
    "    ]\n",
    "    print(\" \".join(cmd))\n",
    "    if not preview:\n",
    "        process = subprocess.Popen(cmd, stdout=subprocess.PIPE, stderr=subprocess.STDOUT)\n",
    "        stdout = process.communicate()[0]\n",
    "        print('STDOUT:{}'.format(stdout))\n",
    "    return\n",
    "\n",
    "node2vec(INPUT, OUTPUT, True)"
   ]
  }
 ],
 "metadata": {
  "kernelspec": {
   "display_name": "Python 2",
   "language": "python",
   "name": "python2"
  },
  "language_info": {
   "codemirror_mode": {
    "name": "ipython",
    "version": 2
   },
   "file_extension": ".py",
   "mimetype": "text/x-python",
   "name": "python",
   "nbconvert_exporter": "python",
   "pygments_lexer": "ipython2",
   "version": "2.7.13"
  }
 },
 "nbformat": 4,
 "nbformat_minor": 2
}
