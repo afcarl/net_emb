{
 "cells": [
  {
   "cell_type": "markdown",
   "metadata": {},
   "source": [
    "## Resources\n",
    "+ http://snap.stanford.edu/node2vec/\n",
    "+ https://github.com/aditya-grover/node2vec"
   ]
  },
  {
   "cell_type": "code",
   "execution_count": 8,
   "metadata": {
    "collapsed": false
   },
   "outputs": [
    {
     "name": "stdout",
     "output_type": "stream",
     "text": [
      "python /Users/tnguyen/workspace/github/node2vec/src/main.py --input /Users/tnguyen/workspace/github/node2vec/graph/karate.edgelist --output /Users/tnguyen/workspace/github/node2vec/emb/karate.emb\n",
      "STDOUT:Walk iteration:\n",
      "1 / 10\n",
      "2 / 10\n",
      "3 / 10\n",
      "4 / 10\n",
      "5 / 10\n",
      "6 / 10\n",
      "7 / 10\n",
      "8 / 10\n",
      "9 / 10\n",
      "10 / 10\n",
      "Traceback (most recent call last):\n",
      "  File \"/Users/tnguyen/workspace/github/node2vec/src/main.py\", line 104, in <module>\n",
      "    main(args)\n",
      "  File \"/Users/tnguyen/workspace/github/node2vec/src/main.py\", line 100, in main\n",
      "    learn_embeddings(walks)\n",
      "  File \"/Users/tnguyen/workspace/github/node2vec/src/main.py\", line 88, in learn_embeddings\n",
      "    model.save_word2vec_format(args.output)\n",
      "  File \"/Users/tnguyen/anaconda/lib/python2.7/site-packages/gensim/models/word2vec.py\", line 958, in save_word2vec_format\n",
      "    raise DeprecationWarning(\"Deprecated. Use model.wv.save_word2vec_format instead.\")\n",
      "DeprecationWarning: Deprecated. Use model.wv.save_word2vec_format instead.\n",
      "\n"
     ]
    }
   ],
   "source": [
    "NODE2VEC = \"./node2vec/src/main.py\"\n",
    "INPUT = \"./node2vec/graph/karate.edgelist\"\n",
    "OUTPUT = \"./node2vec/emb/karate.emb\"\n",
    "\n",
    "import os\n",
    "import subprocess\n",
    "cmd = [\n",
    "    'python', NODE2VEC,\n",
    "    '--input', INPUT,\n",
    "    '--output', OUTPUT,\n",
    "]\n",
    "print(\" \".join(cmd))\n",
    "\n",
    "process = subprocess.Popen(cmd, stdout=subprocess.PIPE, stderr=subprocess.STDOUT)\n",
    "stdout = process.communicate()[0]\n",
    "print 'STDOUT:{}'.format(stdout)"
   ]
  }
 ],
 "metadata": {
  "kernelspec": {
   "display_name": "Python 2",
   "language": "python",
   "name": "python2"
  },
  "language_info": {
   "codemirror_mode": {
    "name": "ipython",
    "version": 2
   },
   "file_extension": ".py",
   "mimetype": "text/x-python",
   "name": "python",
   "nbconvert_exporter": "python",
   "pygments_lexer": "ipython2",
   "version": "2.7.13"
  }
 },
 "nbformat": 4,
 "nbformat_minor": 2
}
