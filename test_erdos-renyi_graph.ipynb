{
 "cells": [
  {
   "cell_type": "code",
   "execution_count": 6,
   "metadata": {
    "collapsed": false
   },
   "outputs": [],
   "source": [
    "from __future__ import print_function, division\n",
    "import networkx as nx\n",
    "\n",
    "n = 10000\n",
    "p = 1.5/n\n",
    "\n",
    "G = nx.erdos_renyi_graph(n, p, seed=None, directed=False)\n",
    "DATASET = \"/Users/tnguyen/dataspace/graph/erdos/\"\n",
    "EDGELIST = DATASET + \"edgelist/erdos,n={0},p={1}.edgelist\".format(n,p)\n",
    "nx.write_edgelist(G, path=EDGELIST, delimiter=\" \", data=False)"
   ]
  }
 ],
 "metadata": {
  "kernelspec": {
   "display_name": "Python 2",
   "language": "python",
   "name": "python2"
  },
  "language_info": {
   "codemirror_mode": {
    "name": "ipython",
    "version": 2
   },
   "file_extension": ".py",
   "mimetype": "text/x-python",
   "name": "python",
   "nbconvert_exporter": "python",
   "pygments_lexer": "ipython2",
   "version": "2.7.13"
  }
 },
 "nbformat": 4,
 "nbformat_minor": 2
}
